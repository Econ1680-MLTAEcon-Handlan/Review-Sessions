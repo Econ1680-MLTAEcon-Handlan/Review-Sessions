{
 "cells": [
  {
   "cell_type": "markdown",
   "id": "e340cc18-9369-45a9-b0f4-73d2932c6f5f",
   "metadata": {
    "tags": []
   },
   "source": [
    "# Shrinkage Methods\n",
    "\n",
    "In this review session, we are going to practice using the different shrinkage methods we learned in class. We are going to use LASSO, Ridge, and PCA to look at the dataset from [Angrist and Krueger (1991)](https://www.jstor.org/stable/2937954) that includes information on wage, education, and other demographic variables for men born between 1920 and 1929. "
   ]
  },
  {
   "cell_type": "markdown",
   "id": "1ee9e0c3-304d-45cb-876a-a7c73efbcaf9",
   "metadata": {},
   "source": [
    "## Setting Up\n",
    "\n",
    "Before we start, let's load the libraries we are going to use"
   ]
  },
  {
   "cell_type": "code",
   "execution_count": 1,
   "id": "17004a60-48da-4dc1-9418-3822fbc94a3e",
   "metadata": {},
   "outputs": [],
   "source": [
    "import pandas as pd\n",
    "import numpy as np\n",
    "import warnings\n",
    "from sklearn.model_selection import train_test_split\n",
    "from sklearn.linear_model import Lasso, LassoCV\n",
    "from sklearn.linear_model import Ridge, RidgeCV\n",
    "from sklearn.preprocessing import StandardScaler\n",
    "from sklearn.decomposition import PCA\n",
    "import matplotlib.pyplot as plt\n",
    "%matplotlib inline"
   ]
  },
  {
   "cell_type": "markdown",
   "id": "1b9c92bc-f613-499c-8a29-faf1268b3a66",
   "metadata": {},
   "source": [
    "We will then load the dataset. This dataset contains information on weekly wages, education, quarter and year of birth for men born 1920-29 in 1970. The raw dataset can be found [here](https://economics.mit.edu/faculty/angrist/data1/data/angkru1991)."
   ]
  },
  {
   "cell_type": "code",
   "execution_count": 2,
   "id": "7f75e6e4-0c78-4456-b10e-8032c913e075",
   "metadata": {},
   "outputs": [
    {
     "data": {
      "text/plain": [
       "Index(['AGE', 'AGEQ', 'v3', 'EDUC', 'ENOCENT', 'ESOCENT', 'v7', 'LWKLYWGE',\n",
       "       'MARRIED', 'MIDATL', 'MT', 'NEWENG', 'v14', 'v15', 'CENSUS', 'v17',\n",
       "       'QOB', 'RACE', 'SMSA', 'SOATL', 'v22', 'v23', 'WNOCENT', 'WSOCENT',\n",
       "       'v26', 'YOB', 'COHORT', 'AGEQSQ', 'YR20', 'YR21', 'YR22', 'YR23',\n",
       "       'YR24', 'YR25', 'YR26', 'YR27', 'YR28', 'YR29', 'QTR1', 'QTR2', 'QTR3',\n",
       "       'QTR4', 'QTR120', 'QTR121', 'QTR122', 'QTR123', 'QTR124', 'QTR125',\n",
       "       'QTR126', 'QTR127', 'QTR128', 'QTR129', 'QTR220', 'QTR221', 'QTR222',\n",
       "       'QTR223', 'QTR224', 'QTR225', 'QTR226', 'QTR227', 'QTR228', 'QTR229',\n",
       "       'QTR320', 'QTR321', 'QTR322', 'QTR323', 'QTR324', 'QTR325', 'QTR326',\n",
       "       'QTR327', 'QTR328', 'QTR329', 'QTR420', 'QTR421', 'QTR422', 'QTR423',\n",
       "       'QTR424', 'QTR425', 'QTR426', 'QTR427', 'QTR428', 'QTR429'],\n",
       "      dtype='object')"
      ]
     },
     "execution_count": 2,
     "metadata": {},
     "output_type": "execute_result"
    }
   ],
   "source": [
    "df = pd.read_stata('../data/QOB7080_clean.dta')\n",
    "df.columns"
   ]
  },
  {
   "cell_type": "markdown",
   "id": "ca2a61d9-a05e-4505-927a-b66014b67844",
   "metadata": {},
   "source": [
    "We will filter out most columns, leaving the ones we are interested in using. "
   ]
  },
  {
   "cell_type": "code",
   "execution_count": 3,
   "id": "d33e5b77-0855-4d01-bac9-b7c020a2fa46",
   "metadata": {},
   "outputs": [],
   "source": [
    "YOB = ['YR2' + str(i) for i in range(9)]\n",
    "# Controlling for race, marital status, standrad metropolitan statistical areas, and regions of residence\n",
    "controls = ['RACE', 'MARRIED', 'SMSA',\n",
    "            'NEWENG', 'MIDATL', 'ENOCENT',\n",
    "            'WNOCENT', 'SOATL', 'ESOCENT',\n",
    "            'WSOCENT', 'MT']\n",
    "y = df['LWKLYWGE']\n",
    "X = df[['EDUC', 'AGEQ', 'AGEQSQ'] + YOB + controls]"
   ]
  },
  {
   "cell_type": "markdown",
   "id": "dce9ecab-1c28-41ab-a1e5-7e0ffb530992",
   "metadata": {},
   "source": [
    "Now, we will split the data by tenfold cross-validation."
   ]
  },
  {
   "cell_type": "code",
   "execution_count": 4,
   "id": "131168c7-9379-493a-abb1-e3b2b97b678d",
   "metadata": {},
   "outputs": [],
   "source": [
    "X_train, X_test, y_train, y_test = train_test_split(X, y, test_size=0.1, random_state=0)"
   ]
  },
  {
   "cell_type": "markdown",
   "id": "0154e4d4-d70e-4936-a2d4-434de71b9273",
   "metadata": {},
   "source": [
    "## Ridge Regression\n",
    "\n",
    "First, we will look at how to implement a ridge regression. The parameter of the ridge regression are computed with the following equation:\n",
    "\n",
    "\\begin{align}\n",
    "    \\hat{\\beta}^{ridge} = \\arg\\min_\\beta \\left\\{\\sum_{i=1}^N (y_i - \\beta_0 - \\sum_{j=1}^p x_{ij}\\beta_j)^2 + \\lambda \\sum_{j=1}^p \\beta_j^2 \\right\\}.\n",
    "\\end{align}\n",
    "\n",
    "In other words, ridge regression is penalizing the sum-of-squares of the parameters. \n",
    "\n",
    "With a given $\\lambda$, we can run the ridge regression like this:"
   ]
  },
  {
   "cell_type": "code",
   "execution_count": 5,
   "id": "5629f68f-d3a4-4687-9b30-e49bb4eefda3",
   "metadata": {},
   "outputs": [
    {
     "data": {
      "text/html": [
       "<div>\n",
       "<style scoped>\n",
       "    .dataframe tbody tr th:only-of-type {\n",
       "        vertical-align: middle;\n",
       "    }\n",
       "\n",
       "    .dataframe tbody tr th {\n",
       "        vertical-align: top;\n",
       "    }\n",
       "\n",
       "    .dataframe thead th {\n",
       "        text-align: right;\n",
       "    }\n",
       "</style>\n",
       "<table border=\"1\" class=\"dataframe\">\n",
       "  <thead>\n",
       "    <tr style=\"text-align: right;\">\n",
       "      <th></th>\n",
       "      <th>var</th>\n",
       "      <th>val</th>\n",
       "    </tr>\n",
       "  </thead>\n",
       "  <tbody>\n",
       "    <tr>\n",
       "      <th>0</th>\n",
       "      <td>EDUC</td>\n",
       "      <td>4.843693e-02</td>\n",
       "    </tr>\n",
       "    <tr>\n",
       "      <th>1</th>\n",
       "      <td>AGEQ</td>\n",
       "      <td>1.014126e-04</td>\n",
       "    </tr>\n",
       "    <tr>\n",
       "      <th>2</th>\n",
       "      <td>AGEQSQ</td>\n",
       "      <td>3.860617e-07</td>\n",
       "    </tr>\n",
       "    <tr>\n",
       "      <th>3</th>\n",
       "      <td>YR20</td>\n",
       "      <td>-6.112852e-03</td>\n",
       "    </tr>\n",
       "    <tr>\n",
       "      <th>4</th>\n",
       "      <td>YR21</td>\n",
       "      <td>-6.901356e-04</td>\n",
       "    </tr>\n",
       "    <tr>\n",
       "      <th>5</th>\n",
       "      <td>YR22</td>\n",
       "      <td>-3.615012e-03</td>\n",
       "    </tr>\n",
       "    <tr>\n",
       "      <th>6</th>\n",
       "      <td>YR23</td>\n",
       "      <td>1.474713e-03</td>\n",
       "    </tr>\n",
       "    <tr>\n",
       "      <th>7</th>\n",
       "      <td>YR24</td>\n",
       "      <td>3.022267e-03</td>\n",
       "    </tr>\n",
       "    <tr>\n",
       "      <th>8</th>\n",
       "      <td>YR25</td>\n",
       "      <td>7.385316e-03</td>\n",
       "    </tr>\n",
       "    <tr>\n",
       "      <th>9</th>\n",
       "      <td>YR26</td>\n",
       "      <td>7.349343e-03</td>\n",
       "    </tr>\n",
       "    <tr>\n",
       "      <th>10</th>\n",
       "      <td>YR27</td>\n",
       "      <td>7.185011e-03</td>\n",
       "    </tr>\n",
       "    <tr>\n",
       "      <th>11</th>\n",
       "      <td>YR28</td>\n",
       "      <td>5.942950e-03</td>\n",
       "    </tr>\n",
       "    <tr>\n",
       "      <th>12</th>\n",
       "      <td>RACE</td>\n",
       "      <td>-2.402260e-01</td>\n",
       "    </tr>\n",
       "    <tr>\n",
       "      <th>13</th>\n",
       "      <td>MARRIED</td>\n",
       "      <td>2.034419e-01</td>\n",
       "    </tr>\n",
       "    <tr>\n",
       "      <th>14</th>\n",
       "      <td>SMSA</td>\n",
       "      <td>-9.945618e-02</td>\n",
       "    </tr>\n",
       "    <tr>\n",
       "      <th>15</th>\n",
       "      <td>NEWENG</td>\n",
       "      <td>1.142151e-02</td>\n",
       "    </tr>\n",
       "    <tr>\n",
       "      <th>16</th>\n",
       "      <td>MIDATL</td>\n",
       "      <td>2.436813e-02</td>\n",
       "    </tr>\n",
       "    <tr>\n",
       "      <th>17</th>\n",
       "      <td>ENOCENT</td>\n",
       "      <td>4.306956e-02</td>\n",
       "    </tr>\n",
       "    <tr>\n",
       "      <th>18</th>\n",
       "      <td>WNOCENT</td>\n",
       "      <td>-6.516398e-02</td>\n",
       "    </tr>\n",
       "    <tr>\n",
       "      <th>19</th>\n",
       "      <td>SOATL</td>\n",
       "      <td>-6.083217e-02</td>\n",
       "    </tr>\n",
       "    <tr>\n",
       "      <th>20</th>\n",
       "      <td>ESOCENT</td>\n",
       "      <td>-1.377475e-01</td>\n",
       "    </tr>\n",
       "    <tr>\n",
       "      <th>21</th>\n",
       "      <td>WSOCENT</td>\n",
       "      <td>-8.472437e-02</td>\n",
       "    </tr>\n",
       "    <tr>\n",
       "      <th>22</th>\n",
       "      <td>MT</td>\n",
       "      <td>-4.893868e-02</td>\n",
       "    </tr>\n",
       "  </tbody>\n",
       "</table>\n",
       "</div>"
      ],
      "text/plain": [
       "        var           val\n",
       "0      EDUC  4.843693e-02\n",
       "1      AGEQ  1.014126e-04\n",
       "2    AGEQSQ  3.860617e-07\n",
       "3      YR20 -6.112852e-03\n",
       "4      YR21 -6.901356e-04\n",
       "5      YR22 -3.615012e-03\n",
       "6      YR23  1.474713e-03\n",
       "7      YR24  3.022267e-03\n",
       "8      YR25  7.385316e-03\n",
       "9      YR26  7.349343e-03\n",
       "10     YR27  7.185011e-03\n",
       "11     YR28  5.942950e-03\n",
       "12     RACE -2.402260e-01\n",
       "13  MARRIED  2.034419e-01\n",
       "14     SMSA -9.945618e-02\n",
       "15   NEWENG  1.142151e-02\n",
       "16   MIDATL  2.436813e-02\n",
       "17  ENOCENT  4.306956e-02\n",
       "18  WNOCENT -6.516398e-02\n",
       "19    SOATL -6.083217e-02\n",
       "20  ESOCENT -1.377475e-01\n",
       "21  WSOCENT -8.472437e-02\n",
       "22       MT -4.893868e-02"
      ]
     },
     "execution_count": 5,
     "metadata": {},
     "output_type": "execute_result"
    }
   ],
   "source": [
    "ridgeReg = Ridge(alpha=0.5, normalize=True)\n",
    "ridgeReg.fit(X_train, y_train)\n",
    "pd.DataFrame({'var':X.columns, 'val':ridgeReg.coef_})"
   ]
  },
  {
   "cell_type": "markdown",
   "id": "b63d43f5-b6a3-4082-a13b-3e0e4416980b",
   "metadata": {},
   "source": [
    "We can check what $\\alpha$ value we should choose based on validation error. "
   ]
  },
  {
   "cell_type": "code",
   "execution_count": 6,
   "id": "7be42ad9-127e-4fe9-89d5-002b707ab611",
   "metadata": {},
   "outputs": [],
   "source": [
    "alphas = np.linspace(0.01, 5, num=51)\n",
    "cv_errs = []\n",
    "coefs = []\n",
    "for alpha in alphas:\n",
    "    ridgeReg = Ridge(alpha=alpha, normalize=True)\n",
    "    ridgeReg.fit(X_train, y_train)\n",
    "    y_pred = ridgeReg.predict(X_test)\n",
    "    cv_errs.append(np.mean((y_pred - y_test)**2))\n",
    "    coefs.append(ridgeReg.coef_)\n",
    "coefs = pd.DataFrame(coefs, columns=X.columns)\n",
    "coefs.set_index(alphas, inplace=True)"
   ]
  },
  {
   "cell_type": "code",
   "execution_count": 7,
   "id": "27adc93c-9015-44ff-aaf5-e0b489cdeb0e",
   "metadata": {},
   "outputs": [
    {
     "data": {
      "text/plain": [
       "Text(0, 0.5, 'Mean Squared Error')"
      ]
     },
     "execution_count": 7,
     "metadata": {},
     "output_type": "execute_result"
    },
    {
     "data": {
      "image/png": "[encoded data removed]",
      "text/plain": [
       "<Figure size 432x288 with 1 Axes>"
      ]
     },
     "metadata": {
      "needs_background": "light"
     },
     "output_type": "display_data"
    }
   ],
   "source": [
    "plt.plot(alphas, cv_errs, '*')\n",
    "plt.xlabel(r'$\\alpha$')\n",
    "plt.ylabel('Mean Squared Error')"
   ]
  },
  {
   "cell_type": "code",
   "execution_count": 8,
   "id": "e5ee32d7-d0fc-481f-8a81-50d18a1bb7b8",
   "metadata": {},
   "outputs": [
    {
     "data": {
      "text/plain": [
       "<AxesSubplot:>"
      ]
     },
     "execution_count": 8,
     "metadata": {},
     "output_type": "execute_result"
    },
    {
     "data": {
      "image/png": "[encoded data removed]",
      "text/plain": [
       "<Figure size 432x288 with 1 Axes>"
      ]
     },
     "metadata": {
      "needs_background": "light"
     },
     "output_type": "display_data"
    }
   ],
   "source": [
    "coefs.plot()"
   ]
  },
  {
   "cell_type": "markdown",
   "id": "be57e57a-a59a-42b8-aba4-30073e2a2825",
   "metadata": {},
   "source": [
    "Alternatively, this can be done with the method `RidgeCV`"
   ]
  },
  {
   "cell_type": "code",
   "execution_count": 9,
   "id": "add2e57b-83d6-4d16-857a-1a5a92bb311d",
   "metadata": {},
   "outputs": [
    {
     "data": {
      "text/plain": [
       "0.01"
      ]
     },
     "execution_count": 9,
     "metadata": {},
     "output_type": "execute_result"
    }
   ],
   "source": [
    "ridgeReg = RidgeCV(alphas=alphas, cv=10, normalize=True).fit(X, y)\n",
    "ridgeReg.alpha_"
   ]
  },
  {
   "cell_type": "markdown",
   "id": "9f2442ca-ccb0-497b-85b0-1b667f5a29d5",
   "metadata": {
    "tags": []
   },
   "source": [
    "## LASSO\n",
    "\n",
    "We will now implement the LASSO regression. The parameter of the LASSO regression are computed with the following equation:\n",
    "\n",
    "\\begin{align}\n",
    "    \\hat{\\beta}^{LASSO} = \\arg\\min_\\beta \\left\\{\\sum_{i=1}^N (y_i - \\beta_0 - \\sum_{j=1}^p x_{ij}\\beta_j)^2 + \\lambda \\sum_{j=1}^p |\\beta_j| \\right\\}.\n",
    "\\end{align}\n",
    "\n",
    "\n",
    "In other words, LASSO regression is penalizing the sum of the absolute values of the parameters. \n",
    "\n",
    "With a given $\\lambda$, we can run the LASSO regression like this:\n"
   ]
  },
  {
   "cell_type": "code",
   "execution_count": 10,
   "id": "c4c30966-b3ec-4565-8e82-18e8585bcd13",
   "metadata": {},
   "outputs": [
    {
     "data": {
      "text/plain": [
       "1e-06"
      ]
     },
     "execution_count": 10,
     "metadata": {},
     "output_type": "execute_result"
    }
   ],
   "source": [
    "lassoReg = LassoCV(alphas=[1e-6, 1e-4, 1e-2, 1], cv=10, normalize=True).fit(X, y)\n",
    "lassoReg.alpha_"
   ]
  },
  {
   "cell_type": "code",
   "execution_count": 11,
   "id": "09b66f9d-c533-4ad6-b61c-3858d8c76e1c",
   "metadata": {},
   "outputs": [
    {
     "data": {
      "text/html": [
       "<div>\n",
       "<style scoped>\n",
       "    .dataframe tbody tr th:only-of-type {\n",
       "        vertical-align: middle;\n",
       "    }\n",
       "\n",
       "    .dataframe tbody tr th {\n",
       "        vertical-align: top;\n",
       "    }\n",
       "\n",
       "    .dataframe thead th {\n",
       "        text-align: right;\n",
       "    }\n",
       "</style>\n",
       "<table border=\"1\" class=\"dataframe\">\n",
       "  <thead>\n",
       "    <tr style=\"text-align: right;\">\n",
       "      <th></th>\n",
       "      <th>var</th>\n",
       "      <th>val</th>\n",
       "    </tr>\n",
       "  </thead>\n",
       "  <tbody>\n",
       "    <tr>\n",
       "      <th>0</th>\n",
       "      <td>EDUC</td>\n",
       "      <td>0.070325</td>\n",
       "    </tr>\n",
       "    <tr>\n",
       "      <th>1</th>\n",
       "      <td>AGEQ</td>\n",
       "      <td>0.001180</td>\n",
       "    </tr>\n",
       "    <tr>\n",
       "      <th>2</th>\n",
       "      <td>AGEQSQ</td>\n",
       "      <td>0.000000</td>\n",
       "    </tr>\n",
       "    <tr>\n",
       "      <th>3</th>\n",
       "      <td>YR20</td>\n",
       "      <td>-0.002734</td>\n",
       "    </tr>\n",
       "    <tr>\n",
       "      <th>4</th>\n",
       "      <td>YR21</td>\n",
       "      <td>0.000000</td>\n",
       "    </tr>\n",
       "    <tr>\n",
       "      <th>5</th>\n",
       "      <td>YR22</td>\n",
       "      <td>-0.000720</td>\n",
       "    </tr>\n",
       "    <tr>\n",
       "      <th>6</th>\n",
       "      <td>YR23</td>\n",
       "      <td>0.003271</td>\n",
       "    </tr>\n",
       "    <tr>\n",
       "      <th>7</th>\n",
       "      <td>YR24</td>\n",
       "      <td>0.004754</td>\n",
       "    </tr>\n",
       "    <tr>\n",
       "      <th>8</th>\n",
       "      <td>YR25</td>\n",
       "      <td>0.012964</td>\n",
       "    </tr>\n",
       "    <tr>\n",
       "      <th>9</th>\n",
       "      <td>YR26</td>\n",
       "      <td>0.012596</td>\n",
       "    </tr>\n",
       "    <tr>\n",
       "      <th>10</th>\n",
       "      <td>YR27</td>\n",
       "      <td>0.014422</td>\n",
       "    </tr>\n",
       "    <tr>\n",
       "      <th>11</th>\n",
       "      <td>YR28</td>\n",
       "      <td>0.011440</td>\n",
       "    </tr>\n",
       "    <tr>\n",
       "      <th>12</th>\n",
       "      <td>RACE</td>\n",
       "      <td>-0.295061</td>\n",
       "    </tr>\n",
       "    <tr>\n",
       "      <th>13</th>\n",
       "      <td>MARRIED</td>\n",
       "      <td>0.292221</td>\n",
       "    </tr>\n",
       "    <tr>\n",
       "      <th>14</th>\n",
       "      <td>SMSA</td>\n",
       "      <td>-0.133234</td>\n",
       "    </tr>\n",
       "    <tr>\n",
       "      <th>15</th>\n",
       "      <td>NEWENG</td>\n",
       "      <td>-0.025344</td>\n",
       "    </tr>\n",
       "    <tr>\n",
       "      <th>16</th>\n",
       "      <td>MIDATL</td>\n",
       "      <td>-0.008028</td>\n",
       "    </tr>\n",
       "    <tr>\n",
       "      <th>17</th>\n",
       "      <td>ENOCENT</td>\n",
       "      <td>0.021764</td>\n",
       "    </tr>\n",
       "    <tr>\n",
       "      <th>18</th>\n",
       "      <td>WNOCENT</td>\n",
       "      <td>-0.132585</td>\n",
       "    </tr>\n",
       "    <tr>\n",
       "      <th>19</th>\n",
       "      <td>SOATL</td>\n",
       "      <td>-0.100356</td>\n",
       "    </tr>\n",
       "    <tr>\n",
       "      <th>20</th>\n",
       "      <td>ESOCENT</td>\n",
       "      <td>-0.202225</td>\n",
       "    </tr>\n",
       "    <tr>\n",
       "      <th>21</th>\n",
       "      <td>WSOCENT</td>\n",
       "      <td>-0.144979</td>\n",
       "    </tr>\n",
       "    <tr>\n",
       "      <th>22</th>\n",
       "      <td>MT</td>\n",
       "      <td>-0.121892</td>\n",
       "    </tr>\n",
       "  </tbody>\n",
       "</table>\n",
       "</div>"
      ],
      "text/plain": [
       "        var       val\n",
       "0      EDUC  0.070325\n",
       "1      AGEQ  0.001180\n",
       "2    AGEQSQ  0.000000\n",
       "3      YR20 -0.002734\n",
       "4      YR21  0.000000\n",
       "5      YR22 -0.000720\n",
       "6      YR23  0.003271\n",
       "7      YR24  0.004754\n",
       "8      YR25  0.012964\n",
       "9      YR26  0.012596\n",
       "10     YR27  0.014422\n",
       "11     YR28  0.011440\n",
       "12     RACE -0.295061\n",
       "13  MARRIED  0.292221\n",
       "14     SMSA -0.133234\n",
       "15   NEWENG -0.025344\n",
       "16   MIDATL -0.008028\n",
       "17  ENOCENT  0.021764\n",
       "18  WNOCENT -0.132585\n",
       "19    SOATL -0.100356\n",
       "20  ESOCENT -0.202225\n",
       "21  WSOCENT -0.144979\n",
       "22       MT -0.121892"
      ]
     },
     "execution_count": 11,
     "metadata": {},
     "output_type": "execute_result"
    }
   ],
   "source": [
    "lassoReg = Lasso(alpha=1e-6, normalize=True)\n",
    "lassoReg.fit(X_train, y_train)\n",
    "pd.DataFrame({'var':X.columns, 'val':lassoReg.coef_})"
   ]
  },
  {
   "cell_type": "markdown",
   "id": "2eaaf66a-f048-4751-902b-047ca908faa6",
   "metadata": {},
   "source": [
    "An important point to keep in mind is that, we need to be careful with making causal claims when we use shrinkage methods such as LASSO. LASSO is penalized to drop parameters that are correlated, which means it can drop the true regressor that is causing fluctuations of the dependent variable. Thus, LASSO's advantage is in prediction, but not in causality determination. "
   ]
  },
  {
   "cell_type": "markdown",
   "id": "749b1c5c-a100-4735-b8fe-e56d8fab0a36",
   "metadata": {},
   "source": [
    "## Principal Component Analysis\n",
    "\n",
    "Now, I will give an example of principal component analysis. Before we run principal component analysis, we want to standardize the data, so variables are comparable with each other. If not, the PCA will select to project in the direction of the variable with the largest variance. "
   ]
  },
  {
   "cell_type": "code",
   "execution_count": 12,
   "id": "eb87a344-33fe-42e6-b126-1660f3f3f5da",
   "metadata": {},
   "outputs": [
    {
     "data": {
      "image/png": "[encoded data removed]",
      "text/plain": [
       "<Figure size 432x288 with 1 Axes>"
      ]
     },
     "metadata": {
      "needs_background": "light"
     },
     "output_type": "display_data"
    }
   ],
   "source": [
    "pca = PCA()\n",
    "X_pca = pca.fit_transform(X)\n",
    "exp_var_pca = pca.explained_variance_ratio_\n",
    "plt.bar(range(0,len(exp_var_pca)), exp_var_pca, alpha=0.5, align='center', label='Individual explained variance')\n",
    "plt.ylabel('Explained variance ratio')\n",
    "plt.xlabel('Principal component index')\n",
    "plt.legend(loc='best')\n",
    "plt.tight_layout()\n",
    "plt.show()"
   ]
  },
  {
   "cell_type": "markdown",
   "id": "26e59e6d-b6d6-415b-828f-7d31658608c7",
   "metadata": {},
   "source": [
    "As we can see below, the high variance of **AGESQ** probably contributed to the high explained variance for the first principal component. "
   ]
  },
  {
   "cell_type": "code",
   "execution_count": 13,
   "id": "9f7d4eb4-1e30-4382-b43d-1b5f82130cae",
   "metadata": {},
   "outputs": [
    {
     "data": {
      "text/plain": [
       "EDUC          11.294059\n",
       "AGEQ           8.282322\n",
       "AGEQSQ     67482.093750\n",
       "YR20           0.086733\n",
       "YR21           0.090624\n",
       "YR22           0.088596\n",
       "YR23           0.088819\n",
       "YR24           0.092483\n",
       "YR25           0.090200\n",
       "YR26           0.089084\n",
       "YR27           0.093225\n",
       "YR28           0.089536\n",
       "RACE           0.075333\n",
       "MARRIED        0.095697\n",
       "SMSA           0.210798\n",
       "NEWENG         0.049979\n",
       "MIDATL         0.158713\n",
       "ENOCENT        0.169916\n",
       "WNOCENT        0.065997\n",
       "SOATL          0.127399\n",
       "ESOCENT        0.053058\n",
       "WSOCENT        0.079520\n",
       "MT             0.036793\n",
       "dtype: float64"
      ]
     },
     "execution_count": 13,
     "metadata": {},
     "output_type": "execute_result"
    }
   ],
   "source": [
    "X.var()"
   ]
  },
  {
   "cell_type": "markdown",
   "id": "08466595-6aa9-4581-9bd7-500da84326f3",
   "metadata": {},
   "source": [
    "We now standardize the dataframe, and run PCA again. "
   ]
  },
  {
   "cell_type": "code",
   "execution_count": 14,
   "id": "9ebc64ac-1752-4e83-a5cb-a6fc2a34b0c9",
   "metadata": {},
   "outputs": [
    {
     "data": {
      "image/png": "[encoded data removed]",
      "text/plain": [
       "<Figure size 432x288 with 1 Axes>"
      ]
     },
     "metadata": {
      "needs_background": "light"
     },
     "output_type": "display_data"
    }
   ],
   "source": [
    "scaler = StandardScaler()\n",
    "scaler.fit(X)\n",
    "X_sc = scaler.transform(X)\n",
    "X_sc_pca = pca.fit_transform(X_sc)\n",
    "exp_var_sc_pca = pca.explained_variance_ratio_\n",
    "plt.bar(range(0,len(exp_var_sc_pca)), exp_var_sc_pca, alpha=0.5, align='center', label='Individual explained variance')\n",
    "plt.ylabel('Explained variance ratio')\n",
    "plt.xlabel('Principal component index')\n",
    "plt.legend(loc='best')\n",
    "plt.tight_layout()\n",
    "plt.show()"
   ]
  },
  {
   "cell_type": "markdown",
   "id": "ac203728-214c-472c-ae20-2dbc4baa6373",
   "metadata": {},
   "source": [
    "To get a n-dimensional PCA-transformed matrix, we simply do: "
   ]
  },
  {
   "cell_type": "code",
   "execution_count": 15,
   "id": "07a43be8-d79a-4d6b-a89d-0934733f2cfb",
   "metadata": {},
   "outputs": [
    {
     "data": {
      "text/plain": [
       "array([[-1.8866111 ,  1.6324784 ],\n",
       "       [-1.6969872 ,  1.0002016 ],\n",
       "       [-2.3974164 ,  1.0064664 ],\n",
       "       ...,\n",
       "       [ 0.9516566 ,  2.2698681 ],\n",
       "       [ 0.7976789 ,  1.5285988 ],\n",
       "       [ 0.04424192,  1.6283612 ]], dtype=float32)"
      ]
     },
     "execution_count": 15,
     "metadata": {},
     "output_type": "execute_result"
    }
   ],
   "source": [
    "n = 2\n",
    "pca_n = PCA(n_components=n)\n",
    "pca_n.fit_transform(X_sc)"
   ]
  }
 ],
 "metadata": {
  "kernelspec": {
   "display_name": "Python 3 (ipykernel)",
   "language": "python",
   "name": "python3"
  },
  "language_info": {
   "codemirror_mode": {
    "name": "ipython",
    "version": 3
   },
   "file_extension": ".py",
   "mimetype": "text/x-python",
   "name": "python",
   "nbconvert_exporter": "python",
   "pygments_lexer": "ipython3",
   "version": "3.9.7"
  }
 },
 "nbformat": 4,
 "nbformat_minor": 5
}

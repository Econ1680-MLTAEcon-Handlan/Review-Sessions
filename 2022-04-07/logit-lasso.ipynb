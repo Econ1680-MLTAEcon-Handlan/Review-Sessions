{
 "cells": [
  {
   "cell_type": "markdown",
   "id": "d50913f8-092e-4dff-9fdf-c1f231fe0f27",
   "metadata": {},
   "source": [
    "# Building Text Classifier with Logit-Lasso\n",
    "\n",
    "In today's review session, we are going to go over how to build the simplest text analysis."
   ]
  },
  {
   "cell_type": "markdown",
   "id": "c8dc34ac-3c8f-4a0f-9964-e2a413f3edf8",
   "metadata": {
    "tags": []
   },
   "source": [
    "## Webscraping with APIs\n",
    "\n",
    "Many of you are interested in analyzing Twitter sentiments or New York Times headlines. Luckily, there are Python APIs (application programming interfaces) that allow us to retrieve data directly."
   ]
  },
  {
   "cell_type": "code",
   "execution_count": 1,
   "id": "68b298f4-0c2c-4f57-bb34-0111766c6865",
   "metadata": {},
   "outputs": [],
   "source": [
    "import requests\n",
    "from pprint import pprint\n",
    "import pandas as pd\n",
    "import time\n",
    "from sklearn.linear_model import LogisticRegression\n",
    "from sklearn.model_selection import train_test_split\n",
    "from sklearn.feature_extraction.text import TfidfVectorizer\n",
    "from sklearn.metrics import confusion_matrix, ConfusionMatrixDisplay"
   ]
  },
  {
   "cell_type": "markdown",
   "id": "73a6514e-cacf-467c-8d21-abaa7364c982",
   "metadata": {},
   "source": [
    "For example, the New York Times offers a few APIs that allow us to extract archive data, or most viewed articles. I will go over below how to extract headlines and abstracts from archives, but see [here](https://developer.nytimes.com/apis) for more information on other NY Times apis."
   ]
  },
  {
   "cell_type": "code",
   "execution_count": 2,
   "id": "a7698522-ece7-440b-a687-1d66609a4464",
   "metadata": {},
   "outputs": [],
   "source": [
    "api_key = '0cUoQ1YTPhxT4tgeNbLx6Dhi5fJP3AJG'\n",
    "year = 2020\n",
    "month = 1\n",
    "response = requests.get(f'https://api.nytimes.com/svc/archive/v1/{year}/{month}.json?api-key={api_key}')"
   ]
  },
  {
   "cell_type": "markdown",
   "id": "e5b192f9-f859-441c-8337-b7089dda519a",
   "metadata": {},
   "source": [
    "The requests returns the extracted entries in json format. "
   ]
  },
  {
   "cell_type": "code",
   "execution_count": 3,
   "id": "d67e2a6c-edc7-44a3-b3b3-1fd1891f59d5",
   "metadata": {},
   "outputs": [],
   "source": [
    "content = response.json()"
   ]
  },
  {
   "cell_type": "markdown",
   "id": "e8ecd24a-c75b-400b-8725-76210be404c6",
   "metadata": {},
   "source": [
    "Here is what each entry looks like. Some of the information available includes abstract, headline, and section name. "
   ]
  },
  {
   "cell_type": "code",
   "execution_count": 4,
   "id": "6393564d-e1c9-4639-99ba-72fe81b7a43b",
   "metadata": {},
   "outputs": [
    {
     "data": {
      "text/plain": [
       "{'abstract': 'The gunman who shot two parishioners at the West Freeway Church of Christ had come earlier looking for food and money, church leaders said.',\n",
       " 'web_url': 'https://www.nytimes.com/2019/12/31/us/texas-church-shooting-white-settlement.html',\n",
       " 'snippet': 'The gunman who shot two parishioners at the West Freeway Church of Christ had come earlier looking for food and money, church leaders said.',\n",
       " 'lead_paragraph': 'WHITE SETTLEMENT, Texas — Given West Freeway Church of Christ’s location, on a busy thoroughfare just off a major highway, vagabonds and homeless people regularly found their way inside. Sometimes, they sought spiritual help. But more often, they came asking for food, which the church would provide, and money, which it typically would not. ',\n",
       " 'print_section': 'A',\n",
       " 'print_page': '16',\n",
       " 'source': 'The New York Times',\n",
       " 'multimedia': [{'rank': 0,\n",
       "   'subtype': 'xlarge',\n",
       "   'caption': None,\n",
       "   'credit': None,\n",
       "   'type': 'image',\n",
       "   'url': 'images/2019/12/31/us/31TEXAS-CHURCH-vigil/merlin_166508412_c777dd44-dd3b-4964-901a-08f45fe037f4-articleLarge.jpg',\n",
       "   'height': 363,\n",
       "   'width': 600,\n",
       "   'subType': 'xlarge',\n",
       "   'crop_name': 'articleLarge',\n",
       "   'legacy': {'xlarge': 'images/2019/12/31/us/31TEXAS-CHURCH-vigil/merlin_166508412_c777dd44-dd3b-4964-901a-08f45fe037f4-articleLarge.jpg',\n",
       "    'xlargewidth': 600,\n",
       "    'xlargeheight': 363}},\n",
       "  {'rank': 0,\n",
       "   'subtype': 'jumbo',\n",
       "   'caption': None,\n",
       "   'credit': None,\n",
       "   'type': 'image',\n",
       "   'url': 'images/2019/12/31/us/31TEXAS-CHURCH-vigil/merlin_166508412_c777dd44-dd3b-4964-901a-08f45fe037f4-jumbo.jpg',\n",
       "   'height': 620,\n",
       "   'width': 1024,\n",
       "   'subType': 'jumbo',\n",
       "   'crop_name': 'jumbo',\n",
       "   'legacy': {}},\n",
       "  {'rank': 0,\n",
       "   'subtype': 'superJumbo',\n",
       "   'caption': None,\n",
       "   'credit': None,\n",
       "   'type': 'image',\n",
       "   'url': 'images/2019/12/31/us/31TEXAS-CHURCH-vigil/merlin_166508412_c777dd44-dd3b-4964-901a-08f45fe037f4-superJumbo.jpg',\n",
       "   'height': 1240,\n",
       "   'width': 2048,\n",
       "   'subType': 'superJumbo',\n",
       "   'crop_name': 'superJumbo',\n",
       "   'legacy': {}},\n",
       "  {'rank': 0,\n",
       "   'subtype': 'thumbnail',\n",
       "   'caption': None,\n",
       "   'credit': None,\n",
       "   'type': 'image',\n",
       "   'url': 'images/2019/12/31/us/31TEXAS-CHURCH-vigil/merlin_166508412_c777dd44-dd3b-4964-901a-08f45fe037f4-thumbStandard.jpg',\n",
       "   'height': 75,\n",
       "   'width': 75,\n",
       "   'subType': 'thumbnail',\n",
       "   'crop_name': 'thumbStandard',\n",
       "   'legacy': {'thumbnail': 'images/2019/12/31/us/31TEXAS-CHURCH-vigil/merlin_166508412_c777dd44-dd3b-4964-901a-08f45fe037f4-thumbStandard.jpg',\n",
       "    'thumbnailwidth': 75,\n",
       "    'thumbnailheight': 75}},\n",
       "  {'rank': 0,\n",
       "   'subtype': 'thumbLarge',\n",
       "   'caption': None,\n",
       "   'credit': None,\n",
       "   'type': 'image',\n",
       "   'url': 'images/2019/12/31/us/31TEXAS-CHURCH-vigil/merlin_166508412_c777dd44-dd3b-4964-901a-08f45fe037f4-thumbLarge.jpg',\n",
       "   'height': 150,\n",
       "   'width': 150,\n",
       "   'subType': 'thumbLarge',\n",
       "   'crop_name': 'thumbLarge',\n",
       "   'legacy': {}}],\n",
       " 'headline': {'main': '‘Battling a Demon’: Drifter Sought Help Before Texas Church Shooting',\n",
       "  'kicker': None,\n",
       "  'content_kicker': None,\n",
       "  'print_headline': 'Church Had Welcomed the Man Who Opened Fire',\n",
       "  'name': None,\n",
       "  'seo': None,\n",
       "  'sub': None},\n",
       " 'keywords': [{'name': 'subject',\n",
       "   'value': 'Churches (Buildings)',\n",
       "   'rank': 1,\n",
       "   'major': 'N'},\n",
       "  {'name': 'subject',\n",
       "   'value': 'Murders, Attempted Murders and Homicides',\n",
       "   'rank': 2,\n",
       "   'major': 'N'},\n",
       "  {'name': 'organizations',\n",
       "   'value': 'West Freeway Church of Christ (White Settlement, Tex)',\n",
       "   'rank': 3,\n",
       "   'major': 'N'},\n",
       "  {'name': 'glocations', 'value': 'Fort Worth (Tex)', 'rank': 4, 'major': 'N'},\n",
       "  {'name': 'glocations',\n",
       "   'value': 'White Settlement (Tex)',\n",
       "   'rank': 5,\n",
       "   'major': 'N'},\n",
       "  {'name': 'glocations', 'value': 'Texas', 'rank': 6, 'major': 'N'}],\n",
       " 'pub_date': '2020-01-01T00:14:41+0000',\n",
       " 'document_type': 'article',\n",
       " 'news_desk': 'National',\n",
       " 'section_name': 'U.S.',\n",
       " 'byline': {'original': 'By Dave Montgomery, Anemona Hartocollis and Rick Rojas',\n",
       "  'person': [{'firstname': 'Dave',\n",
       "    'middlename': None,\n",
       "    'lastname': 'Montgomery',\n",
       "    'qualifier': None,\n",
       "    'title': None,\n",
       "    'role': 'reported',\n",
       "    'organization': '',\n",
       "    'rank': 1},\n",
       "   {'firstname': 'Anemona',\n",
       "    'middlename': None,\n",
       "    'lastname': 'Hartocollis',\n",
       "    'qualifier': None,\n",
       "    'title': None,\n",
       "    'role': 'reported',\n",
       "    'organization': '',\n",
       "    'rank': 2},\n",
       "   {'firstname': 'Rick',\n",
       "    'middlename': None,\n",
       "    'lastname': 'Rojas',\n",
       "    'qualifier': None,\n",
       "    'title': None,\n",
       "    'role': 'reported',\n",
       "    'organization': '',\n",
       "    'rank': 3}],\n",
       "  'organization': None},\n",
       " 'type_of_material': 'News',\n",
       " '_id': 'nyt://article/22fc94cd-2e4a-5af1-89f8-7260bf275729',\n",
       " 'word_count': 1295,\n",
       " 'uri': 'nyt://article/22fc94cd-2e4a-5af1-89f8-7260bf275729'}"
      ]
     },
     "execution_count": 4,
     "metadata": {},
     "output_type": "execute_result"
    }
   ],
   "source": [
    "content['response']['docs'][0]"
   ]
  },
  {
   "cell_type": "markdown",
   "id": "bb253a60-e316-49a2-b2bb-3e2c2b910b4b",
   "metadata": {},
   "source": [
    "We can iterate through the loaded json to retrieve headlines and abstracts."
   ]
  },
  {
   "cell_type": "code",
   "execution_count": 5,
   "id": "5f59fb8b-5d19-4453-a856-649e41278872",
   "metadata": {},
   "outputs": [
    {
     "data": {
      "text/html": [
       "<div>\n",
       "<style scoped>\n",
       "    .dataframe tbody tr th:only-of-type {\n",
       "        vertical-align: middle;\n",
       "    }\n",
       "\n",
       "    .dataframe tbody tr th {\n",
       "        vertical-align: top;\n",
       "    }\n",
       "\n",
       "    .dataframe thead th {\n",
       "        text-align: right;\n",
       "    }\n",
       "</style>\n",
       "<table border=\"1\" class=\"dataframe\">\n",
       "  <thead>\n",
       "    <tr style=\"text-align: right;\">\n",
       "      <th></th>\n",
       "      <th>headline</th>\n",
       "      <th>abstract</th>\n",
       "      <th>date</th>\n",
       "      <th>section</th>\n",
       "    </tr>\n",
       "  </thead>\n",
       "  <tbody>\n",
       "    <tr>\n",
       "      <th>13</th>\n",
       "      <td>What’s on TV Wednesday: A Linda Ronstadt Doc a...</td>\n",
       "      <td>“Linda Ronstadt: The Sound of My Voice” airs o...</td>\n",
       "      <td>2020-01-01T06:00:06+0000</td>\n",
       "      <td>Arts</td>\n",
       "    </tr>\n",
       "    <tr>\n",
       "      <th>31</th>\n",
       "      <td>Couture Creations for Dancing Bodies</td>\n",
       "      <td>An exhibition at the Centre National du Costum...</td>\n",
       "      <td>2020-01-01T10:00:21+0000</td>\n",
       "      <td>Arts</td>\n",
       "    </tr>\n",
       "    <tr>\n",
       "      <th>49</th>\n",
       "      <td>Fearless Predictions for the N.B.A. in 2020</td>\n",
       "      <td>Breaking out the crystal roundball for some (a...</td>\n",
       "      <td>2020-01-01T15:00:03+0000</td>\n",
       "      <td>Sports</td>\n",
       "    </tr>\n",
       "    <tr>\n",
       "      <th>69</th>\n",
       "      <td>Review: Anna Netrebko Rings in the Year With a...</td>\n",
       "      <td>The company’s prima donna showed off her past,...</td>\n",
       "      <td>2020-01-01T18:40:41+0000</td>\n",
       "      <td>Arts</td>\n",
       "    </tr>\n",
       "    <tr>\n",
       "      <th>70</th>\n",
       "      <td>Woody Vasulka, Whose Video Art Extended Bounda...</td>\n",
       "      <td>He deftly manipulated electronic images to pro...</td>\n",
       "      <td>2020-01-01T18:49:54+0000</td>\n",
       "      <td>Arts</td>\n",
       "    </tr>\n",
       "    <tr>\n",
       "      <th>...</th>\n",
       "      <td>...</td>\n",
       "      <td>...</td>\n",
       "      <td>...</td>\n",
       "      <td>...</td>\n",
       "    </tr>\n",
       "    <tr>\n",
       "      <th>13576</th>\n",
       "      <td>How We Use Our Bodies to Navigate a Pandemic</td>\n",
       "      <td>Your partner is a stranger, and the sidewalk i...</td>\n",
       "      <td>2020-03-31T21:26:25+0000</td>\n",
       "      <td>Arts</td>\n",
       "    </tr>\n",
       "    <tr>\n",
       "      <th>13577</th>\n",
       "      <td>Jan Howard, Singer and Writer of Country Hits,...</td>\n",
       "      <td>A female star in Nashville when there weren’t ...</td>\n",
       "      <td>2020-03-31T21:29:16+0000</td>\n",
       "      <td>Arts</td>\n",
       "    </tr>\n",
       "    <tr>\n",
       "      <th>13582</th>\n",
       "      <td>International Center of Photography Wants Your...</td>\n",
       "      <td>Artists, both professional and otherwise, can ...</td>\n",
       "      <td>2020-03-31T21:51:31+0000</td>\n",
       "      <td>Arts</td>\n",
       "    </tr>\n",
       "    <tr>\n",
       "      <th>13592</th>\n",
       "      <td>‘Tiger King’: What to Read if You’re Obsessed ...</td>\n",
       "      <td>Go on a deep dive with these articles that exp...</td>\n",
       "      <td>2020-03-31T22:54:35+0000</td>\n",
       "      <td>Arts</td>\n",
       "    </tr>\n",
       "    <tr>\n",
       "      <th>13602</th>\n",
       "      <td>Hellmut Stern, 91, Dies; Violinist Returned to...</td>\n",
       "      <td>He joined the Berlin Philharmonic after years ...</td>\n",
       "      <td>2020-03-31T23:56:30+0000</td>\n",
       "      <td>Arts</td>\n",
       "    </tr>\n",
       "  </tbody>\n",
       "</table>\n",
       "<p>1673 rows × 4 columns</p>\n",
       "</div>"
      ],
      "text/plain": [
       "                                                headline  \\\n",
       "13     What’s on TV Wednesday: A Linda Ronstadt Doc a...   \n",
       "31                  Couture Creations for Dancing Bodies   \n",
       "49           Fearless Predictions for the N.B.A. in 2020   \n",
       "69     Review: Anna Netrebko Rings in the Year With a...   \n",
       "70     Woody Vasulka, Whose Video Art Extended Bounda...   \n",
       "...                                                  ...   \n",
       "13576       How We Use Our Bodies to Navigate a Pandemic   \n",
       "13577  Jan Howard, Singer and Writer of Country Hits,...   \n",
       "13582  International Center of Photography Wants Your...   \n",
       "13592  ‘Tiger King’: What to Read if You’re Obsessed ...   \n",
       "13602  Hellmut Stern, 91, Dies; Violinist Returned to...   \n",
       "\n",
       "                                                abstract  \\\n",
       "13     “Linda Ronstadt: The Sound of My Voice” airs o...   \n",
       "31     An exhibition at the Centre National du Costum...   \n",
       "49     Breaking out the crystal roundball for some (a...   \n",
       "69     The company’s prima donna showed off her past,...   \n",
       "70     He deftly manipulated electronic images to pro...   \n",
       "...                                                  ...   \n",
       "13576  Your partner is a stranger, and the sidewalk i...   \n",
       "13577  A female star in Nashville when there weren’t ...   \n",
       "13582  Artists, both professional and otherwise, can ...   \n",
       "13592  Go on a deep dive with these articles that exp...   \n",
       "13602  He joined the Berlin Philharmonic after years ...   \n",
       "\n",
       "                           date section  \n",
       "13     2020-01-01T06:00:06+0000    Arts  \n",
       "31     2020-01-01T10:00:21+0000    Arts  \n",
       "49     2020-01-01T15:00:03+0000  Sports  \n",
       "69     2020-01-01T18:40:41+0000    Arts  \n",
       "70     2020-01-01T18:49:54+0000    Arts  \n",
       "...                         ...     ...  \n",
       "13576  2020-03-31T21:26:25+0000    Arts  \n",
       "13577  2020-03-31T21:29:16+0000    Arts  \n",
       "13582  2020-03-31T21:51:31+0000    Arts  \n",
       "13592  2020-03-31T22:54:35+0000    Arts  \n",
       "13602  2020-03-31T23:56:30+0000    Arts  \n",
       "\n",
       "[1673 rows x 4 columns]"
      ]
     },
     "execution_count": 5,
     "metadata": {},
     "output_type": "execute_result"
    }
   ],
   "source": [
    "nyt_headlines = []\n",
    "nyt_abstract = []\n",
    "nyt_sections = []\n",
    "nyt_dates = []\n",
    "for month in [1, 2, 3]:\n",
    "    response = requests.get(f'https://api.nytimes.com/svc/archive/v1/{year}/{month}.json?api-key={api_key}')\n",
    "    content = response.json()\n",
    "    for article in content['response']['docs']:\n",
    "        nyt_headlines.append(article['headline']['main'])\n",
    "        nyt_sections.append(article['section_name'])\n",
    "        nyt_abstract.append(article['abstract'])\n",
    "        nyt_dates.append(article['pub_date'])\n",
    "    #time.sleep(5)\n",
    "nyt_df = pd.DataFrame({'headline': nyt_headlines, 'abstract': nyt_abstract, 'date': nyt_dates, 'section': nyt_sections})\n",
    "nyt_df_as = nyt_df[nyt_df['section'].isin(['Arts', 'Sports'])]\n",
    "nyt_df_as"
   ]
  },
  {
   "cell_type": "markdown",
   "id": "95d6a554-5df0-4a81-80a5-9baa51f9cf8b",
   "metadata": {},
   "source": [
    "If we want to look at historical headlines, we will have to make multiple requests. Usually, for APIs, there are per minute or per day limits. To avoid reaching the limit, it is good to \"sleep\" between requests. "
   ]
  },
  {
   "cell_type": "markdown",
   "id": "cae22340",
   "metadata": {},
   "source": [
    "## Dictionary approach:\n",
    "We want to select a work or list of words associated with a category or measure of interest.\n",
    "\n",
    "Select articles from Sports and Arts sections and transform the collection of headlines into a matrix of TF-IDF (term frequancy-inverse dociment frequency) features. Then, we transform lists of features to vectors."
   ]
  },
  {
   "cell_type": "code",
   "execution_count": 6,
   "id": "d75f5a07-7b1e-4c56-849f-08f8a876886a",
   "metadata": {},
   "outputs": [
    {
     "data": {
      "text/plain": [
       "(1673, 4485)"
      ]
     },
     "execution_count": 6,
     "metadata": {},
     "output_type": "execute_result"
    }
   ],
   "source": [
    "toks = nyt_df_as['headline'].tolist()\n",
    "vectorizer = TfidfVectorizer() \n",
    "X = vectorizer.fit_transform(toks)\n",
    "features = vectorizer.get_feature_names_out()\n",
    "X.shape"
   ]
  },
  {
   "cell_type": "markdown",
   "id": "e691dedc",
   "metadata": {},
   "source": [
    "Construct ouput vector."
   ]
  },
  {
   "cell_type": "code",
   "execution_count": 13,
   "id": "a4bc0aac-4cc9-4996-bfc7-9aa5241a8985",
   "metadata": {},
   "outputs": [],
   "source": [
    "y = (nyt_df_as['section']=='Arts').to_numpy()\n",
    "y = nyt_df_as['section']\n",
    "x = X.toarray()\n",
    "x_train, x_test, y_train, y_test = train_test_split(x, y, test_size=0.2, random_state=1680)"
   ]
  },
  {
   "cell_type": "markdown",
   "id": "7447fae1",
   "metadata": {},
   "source": [
    "Run logit-lasso to to find words most indicative of Arts and Sports sections. Use:  L1 penalty, liblinear solver, and\n",
    "random state of 1680. Loop over C parameter.\n",
    "\n",
    "NB: A high value of C tells the model to give high weight to the training data, and a lower weight to the complexity penalty. A low value tells the model to give more weight to this complexity penalty at the expense of fitting to the training data."
   ]
  },
  {
   "cell_type": "code",
   "execution_count": 14,
   "id": "1ef56405-fa45-4ec7-ac01-5e471b4958ef",
   "metadata": {},
   "outputs": [],
   "source": [
    "test_scores = {}\n",
    "max_score = 0\n",
    "for c in [0.001, 0.01, 0.1, 1]:\n",
    "    loglasso  = LogisticRegression(penalty='l1', solver='liblinear', random_state=1680, C=c).fit(x_train, y_train)\n",
    "    test_score = loglasso.score(x_test, y_test)\n",
    "    if test_score > max_score:\n",
    "        best_model = loglasso\n",
    "        max_score = test_score\n",
    "    test_scores[c] = test_score"
   ]
  },
  {
   "cell_type": "code",
   "execution_count": 15,
   "id": "99979777-a6c5-4a35-923a-ae56e2eb92aa",
   "metadata": {},
   "outputs": [
    {
     "data": {
      "text/plain": [
       "{0.001: 0.6149253731343284,\n",
       " 0.01: 0.6149253731343284,\n",
       " 0.1: 0.6149253731343284,\n",
       " 1: 0.764179104477612}"
      ]
     },
     "execution_count": 15,
     "metadata": {},
     "output_type": "execute_result"
    }
   ],
   "source": [
    "test_scores"
   ]
  },
  {
   "cell_type": "code",
   "execution_count": 16,
   "id": "8da6ad29",
   "metadata": {},
   "outputs": [
    {
     "data": {
      "text/plain": [
       "0.764179104477612"
      ]
     },
     "execution_count": 16,
     "metadata": {},
     "output_type": "execute_result"
    }
   ],
   "source": [
    "max_score"
   ]
  },
  {
   "cell_type": "code",
   "execution_count": 17,
   "id": "a7728f7e-c6a6-43fe-9d60-d90000de8ab5",
   "metadata": {},
   "outputs": [
    {
     "data": {
      "text/html": [
       "<div>\n",
       "<style scoped>\n",
       "    .dataframe tbody tr th:only-of-type {\n",
       "        vertical-align: middle;\n",
       "    }\n",
       "\n",
       "    .dataframe tbody tr th {\n",
       "        vertical-align: top;\n",
       "    }\n",
       "\n",
       "    .dataframe thead th {\n",
       "        text-align: right;\n",
       "    }\n",
       "</style>\n",
       "<table border=\"1\" class=\"dataframe\">\n",
       "  <thead>\n",
       "    <tr style=\"text-align: right;\">\n",
       "      <th></th>\n",
       "      <th>Feature</th>\n",
       "      <th>Coef</th>\n",
       "    </tr>\n",
       "  </thead>\n",
       "  <tbody>\n",
       "    <tr>\n",
       "      <th>0</th>\n",
       "      <td>kobe</td>\n",
       "      <td>6.799539</td>\n",
       "    </tr>\n",
       "    <tr>\n",
       "      <th>1</th>\n",
       "      <td>sports</td>\n",
       "      <td>6.211630</td>\n",
       "    </tr>\n",
       "    <tr>\n",
       "      <th>2</th>\n",
       "      <td>astros</td>\n",
       "      <td>5.934494</td>\n",
       "    </tr>\n",
       "    <tr>\n",
       "      <th>3</th>\n",
       "      <td>basketball</td>\n",
       "      <td>5.467949</td>\n",
       "    </tr>\n",
       "    <tr>\n",
       "      <th>4</th>\n",
       "      <td>olympics</td>\n",
       "      <td>5.427551</td>\n",
       "    </tr>\n",
       "    <tr>\n",
       "      <th>5</th>\n",
       "      <td>soccer</td>\n",
       "      <td>5.216379</td>\n",
       "    </tr>\n",
       "    <tr>\n",
       "      <th>6</th>\n",
       "      <td>baseball</td>\n",
       "      <td>4.080232</td>\n",
       "    </tr>\n",
       "    <tr>\n",
       "      <th>7</th>\n",
       "      <td>olympic</td>\n",
       "      <td>3.497637</td>\n",
       "    </tr>\n",
       "    <tr>\n",
       "      <th>8</th>\n",
       "      <td>open</td>\n",
       "      <td>3.268875</td>\n",
       "    </tr>\n",
       "    <tr>\n",
       "      <th>9</th>\n",
       "      <td>players</td>\n",
       "      <td>2.978205</td>\n",
       "    </tr>\n",
       "    <tr>\n",
       "      <th>10</th>\n",
       "      <td>australian</td>\n",
       "      <td>2.797870</td>\n",
       "    </tr>\n",
       "    <tr>\n",
       "      <th>11</th>\n",
       "      <td>win</td>\n",
       "      <td>2.795407</td>\n",
       "    </tr>\n",
       "    <tr>\n",
       "      <th>12</th>\n",
       "      <td>knicks</td>\n",
       "      <td>2.773971</td>\n",
       "    </tr>\n",
       "    <tr>\n",
       "      <th>13</th>\n",
       "      <td>brady</td>\n",
       "      <td>2.374025</td>\n",
       "    </tr>\n",
       "    <tr>\n",
       "      <th>14</th>\n",
       "      <td>for</td>\n",
       "      <td>2.257997</td>\n",
       "    </tr>\n",
       "    <tr>\n",
       "      <th>15</th>\n",
       "      <td>yankees</td>\n",
       "      <td>1.941032</td>\n",
       "    </tr>\n",
       "    <tr>\n",
       "      <th>16</th>\n",
       "      <td>zion</td>\n",
       "      <td>1.674455</td>\n",
       "    </tr>\n",
       "    <tr>\n",
       "      <th>17</th>\n",
       "      <td>league</td>\n",
       "      <td>1.651462</td>\n",
       "    </tr>\n",
       "    <tr>\n",
       "      <th>18</th>\n",
       "      <td>bowl</td>\n",
       "      <td>1.505944</td>\n",
       "    </tr>\n",
       "    <tr>\n",
       "      <th>19</th>\n",
       "      <td>mets</td>\n",
       "      <td>1.437367</td>\n",
       "    </tr>\n",
       "  </tbody>\n",
       "</table>\n",
       "</div>"
      ],
      "text/plain": [
       "       Feature      Coef\n",
       "0         kobe  6.799539\n",
       "1       sports  6.211630\n",
       "2       astros  5.934494\n",
       "3   basketball  5.467949\n",
       "4     olympics  5.427551\n",
       "5       soccer  5.216379\n",
       "6     baseball  4.080232\n",
       "7      olympic  3.497637\n",
       "8         open  3.268875\n",
       "9      players  2.978205\n",
       "10  australian  2.797870\n",
       "11         win  2.795407\n",
       "12      knicks  2.773971\n",
       "13       brady  2.374025\n",
       "14         for  2.257997\n",
       "15     yankees  1.941032\n",
       "16        zion  1.674455\n",
       "17      league  1.651462\n",
       "18        bowl  1.505944\n",
       "19        mets  1.437367"
      ]
     },
     "execution_count": 17,
     "metadata": {},
     "output_type": "execute_result"
    }
   ],
   "source": [
    "coefs_df = pd.DataFrame({'Feature': features[(best_model.coef_ > 0)[0]], 'Coef': best_model.coef_[0][(best_model.coef_> 0)[0]]}).sort_values('Coef', ascending=False).reset_index(drop=True)\n",
    "coefs_df.head(20)"
   ]
  },
  {
   "cell_type": "markdown",
   "id": "8d8174f1",
   "metadata": {},
   "source": [
    "Compute confusion matrix to evaluate the accuracy of a classification."
   ]
  },
  {
   "cell_type": "code",
   "execution_count": 18,
   "id": "606bf885-4b23-4e5c-9d4f-1806cd641bc6",
   "metadata": {},
   "outputs": [
    {
     "data": {
      "text/plain": [
       "<sklearn.metrics._plot.confusion_matrix.ConfusionMatrixDisplay at 0x7fb179701a60>"
      ]
     },
     "execution_count": 18,
     "metadata": {},
     "output_type": "execute_result"
    },
    {
     "data": {
      "image/png": "[encoded data removed]",
      "text/plain": [
       "<Figure size 640x480 with 2 Axes>"
      ]
     },
     "metadata": {},
     "output_type": "display_data"
    }
   ],
   "source": [
    "cm = confusion_matrix(y_test, best_model.predict(x_test))\n",
    "disp = ConfusionMatrixDisplay(confusion_matrix=cm, display_labels=best_model.classes_)\n",
    "disp.plot()"
   ]
  },
  {
   "cell_type": "code",
   "execution_count": null,
   "id": "f75c130b",
   "metadata": {},
   "outputs": [],
   "source": []
  }
 ],
 "metadata": {
  "kernelspec": {
   "display_name": "Python 3 (ipykernel)",
   "language": "python",
   "name": "python3"
  },
  "language_info": {
   "codemirror_mode": {
    "name": "ipython",
    "version": 3
   },
   "file_extension": ".py",
   "mimetype": "text/x-python",
   "name": "python",
   "nbconvert_exporter": "python",
   "pygments_lexer": "ipython3",
   "version": "3.9.13"
  }
 },
 "nbformat": 4,
 "nbformat_minor": 5
}
